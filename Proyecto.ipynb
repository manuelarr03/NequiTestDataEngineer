{
 "cells": [
  {
   "attachments": {},
   "cell_type": "markdown",
   "metadata": {},
   "source": [
    "# Exploración y evaluación de los datos\n",
    "\n",
    "### Base 1: bank_transactions.csv"
   ]
  },
  {
   "cell_type": "code",
   "execution_count": 8,
   "metadata": {},
   "outputs": [],
   "source": [
    "# se importan las librerías necesarias\n",
    "import pandas as pd\n",
    "import matplotlib.pyplot as plt"
   ]
  },
  {
   "cell_type": "code",
   "execution_count": 24,
   "metadata": {},
   "outputs": [
    {
     "data": {
      "text/html": [
       "<div>\n",
       "<style scoped>\n",
       "    .dataframe tbody tr th:only-of-type {\n",
       "        vertical-align: middle;\n",
       "    }\n",
       "\n",
       "    .dataframe tbody tr th {\n",
       "        vertical-align: top;\n",
       "    }\n",
       "\n",
       "    .dataframe thead th {\n",
       "        text-align: right;\n",
       "    }\n",
       "</style>\n",
       "<table border=\"1\" class=\"dataframe\">\n",
       "  <thead>\n",
       "    <tr style=\"text-align: right;\">\n",
       "      <th></th>\n",
       "      <th>TransactionID</th>\n",
       "      <th>CustomerID</th>\n",
       "      <th>CustomerDOB</th>\n",
       "      <th>CustGender</th>\n",
       "      <th>CustLocation</th>\n",
       "      <th>CustAccountBalance</th>\n",
       "      <th>TransactionDate</th>\n",
       "      <th>TransactionTime</th>\n",
       "      <th>TransactionAmount (INR)</th>\n",
       "    </tr>\n",
       "  </thead>\n",
       "  <tbody>\n",
       "    <tr>\n",
       "      <th>0</th>\n",
       "      <td>T1</td>\n",
       "      <td>C5841053</td>\n",
       "      <td>10/1/94</td>\n",
       "      <td>F</td>\n",
       "      <td>JAMSHEDPUR</td>\n",
       "      <td>17819.05</td>\n",
       "      <td>2/8/16</td>\n",
       "      <td>143207</td>\n",
       "      <td>25.0</td>\n",
       "    </tr>\n",
       "    <tr>\n",
       "      <th>1</th>\n",
       "      <td>T2</td>\n",
       "      <td>C2142763</td>\n",
       "      <td>4/4/57</td>\n",
       "      <td>M</td>\n",
       "      <td>JHAJJAR</td>\n",
       "      <td>2270.69</td>\n",
       "      <td>2/8/16</td>\n",
       "      <td>141858</td>\n",
       "      <td>27999.0</td>\n",
       "    </tr>\n",
       "    <tr>\n",
       "      <th>2</th>\n",
       "      <td>T3</td>\n",
       "      <td>C4417068</td>\n",
       "      <td>26/11/96</td>\n",
       "      <td>F</td>\n",
       "      <td>MUMBAI</td>\n",
       "      <td>17874.44</td>\n",
       "      <td>2/8/16</td>\n",
       "      <td>142712</td>\n",
       "      <td>459.0</td>\n",
       "    </tr>\n",
       "    <tr>\n",
       "      <th>3</th>\n",
       "      <td>T4</td>\n",
       "      <td>C5342380</td>\n",
       "      <td>14/9/73</td>\n",
       "      <td>F</td>\n",
       "      <td>MUMBAI</td>\n",
       "      <td>866503.21</td>\n",
       "      <td>2/8/16</td>\n",
       "      <td>142714</td>\n",
       "      <td>2060.0</td>\n",
       "    </tr>\n",
       "    <tr>\n",
       "      <th>4</th>\n",
       "      <td>T5</td>\n",
       "      <td>C9031234</td>\n",
       "      <td>24/3/88</td>\n",
       "      <td>F</td>\n",
       "      <td>NAVI MUMBAI</td>\n",
       "      <td>6714.43</td>\n",
       "      <td>2/8/16</td>\n",
       "      <td>181156</td>\n",
       "      <td>1762.5</td>\n",
       "    </tr>\n",
       "  </tbody>\n",
       "</table>\n",
       "</div>"
      ],
      "text/plain": [
       "  TransactionID CustomerID CustomerDOB CustGender CustLocation  \\\n",
       "0            T1   C5841053     10/1/94          F   JAMSHEDPUR   \n",
       "1            T2   C2142763      4/4/57          M      JHAJJAR   \n",
       "2            T3   C4417068    26/11/96          F       MUMBAI   \n",
       "3            T4   C5342380     14/9/73          F       MUMBAI   \n",
       "4            T5   C9031234     24/3/88          F  NAVI MUMBAI   \n",
       "\n",
       "   CustAccountBalance TransactionDate  TransactionTime  \\\n",
       "0            17819.05          2/8/16           143207   \n",
       "1             2270.69          2/8/16           141858   \n",
       "2            17874.44          2/8/16           142712   \n",
       "3           866503.21          2/8/16           142714   \n",
       "4             6714.43          2/8/16           181156   \n",
       "\n",
       "   TransactionAmount (INR)  \n",
       "0                     25.0  \n",
       "1                  27999.0  \n",
       "2                    459.0  \n",
       "3                   2060.0  \n",
       "4                   1762.5  "
      ]
     },
     "execution_count": 24,
     "metadata": {},
     "output_type": "execute_result"
    }
   ],
   "source": [
    "# Se carga la data\n",
    "data_bank = pd.read_csv('BankTransactions/bank_transactions.csv')\n",
    "data_bank.head()"
   ]
  },
  {
   "cell_type": "code",
   "execution_count": 25,
   "metadata": {},
   "outputs": [
    {
     "name": "stdout",
     "output_type": "stream",
     "text": [
      "(1048567, 9)\n",
      "<class 'pandas.core.frame.DataFrame'>\n",
      "RangeIndex: 1048567 entries, 0 to 1048566\n",
      "Data columns (total 9 columns):\n",
      " #   Column                   Non-Null Count    Dtype  \n",
      "---  ------                   --------------    -----  \n",
      " 0   TransactionID            1048567 non-null  object \n",
      " 1   CustomerID               1048567 non-null  object \n",
      " 2   CustomerDOB              1045170 non-null  object \n",
      " 3   CustGender               1047467 non-null  object \n",
      " 4   CustLocation             1048416 non-null  object \n",
      " 5   CustAccountBalance       1046198 non-null  float64\n",
      " 6   TransactionDate          1048567 non-null  object \n",
      " 7   TransactionTime          1048567 non-null  int64  \n",
      " 8   TransactionAmount (INR)  1048567 non-null  float64\n",
      "dtypes: float64(2), int64(1), object(6)\n",
      "memory usage: 72.0+ MB\n"
     ]
    }
   ],
   "source": [
    "print(data_bank.shape)\n",
    "data_bank.info()"
   ]
  },
  {
   "attachments": {},
   "cell_type": "markdown",
   "metadata": {},
   "source": [
    "Hasta el momento tenemos un dataframe con 1,048,567 registros y 9 columnas. Algunas variables no están en el formato adecuado y algunos datos del cliente están vacíos. En la transformación se debe cambia el formato *object* de las variables **CustomerDOB** y **TransactionDate** al formato adecuado de fecha."
   ]
  },
  {
   "cell_type": "code",
   "execution_count": 30,
   "metadata": {},
   "outputs": [],
   "source": [
    "# Se cambian formatos de fecha para evaluar mejor la data. \n",
    "data_bank['TransactionDate'] = pd.to_datetime(data_bank['TransactionDate'], format='%d/%m/%y')\n",
    "data_bank['CustomerDOB'] = pd.to_datetime(data_bank['CustomerDOB'], format='%d/%m/%y', errors='coerce') # con errors='coerce' se reemplazan los valores nulos por nan"
   ]
  },
  {
   "cell_type": "code",
   "execution_count": 31,
   "metadata": {},
   "outputs": [
    {
     "name": "stderr",
     "output_type": "stream",
     "text": [
      "C:\\Users\\User\\AppData\\Local\\Temp\\ipykernel_18792\\4099057514.py:1: FutureWarning: Treating datetime data as categorical rather than numeric in `.describe` is deprecated and will be removed in a future version of pandas. Specify `datetime_is_numeric=True` to silence this warning and adopt the future behavior now.\n",
      "  data_bank['TransactionDate'].describe()\n"
     ]
    },
    {
     "data": {
      "text/plain": [
       "count                 1048567\n",
       "unique                     55\n",
       "top       2016-08-07 00:00:00\n",
       "freq                    27261\n",
       "first     2016-08-01 00:00:00\n",
       "last      2016-10-21 00:00:00\n",
       "Name: TransactionDate, dtype: object"
      ]
     },
     "execution_count": 31,
     "metadata": {},
     "output_type": "execute_result"
    }
   ],
   "source": [
    "data_bank['TransactionDate'].describe()"
   ]
  },
  {
   "cell_type": "code",
   "execution_count": 35,
   "metadata": {},
   "outputs": [
    {
     "data": {
      "text/plain": [
       "Text(0, 0.5, '# Transaction')"
      ]
     },
     "execution_count": 35,
     "metadata": {},
     "output_type": "execute_result"
    },
    {
     "data": {
      "image/png": "[encoded data removed]",
      "text/plain": [
       "<Figure size 720x432 with 1 Axes>"
      ]
     },
     "metadata": {
      "needs_background": "light"
     },
     "output_type": "display_data"
    }
   ],
   "source": [
    "x_values = data_bank['TransactionDate'].sort_values().dt.strftime(\"%Y-%m\").unique()\n",
    "y_values = data_bank['TransactionDate'].dt.strftime(\"%Y-%m\").value_counts().tolist()\n",
    "\n",
    "plt.figure(figsize=(10,6))    \n",
    "plt.bar(x_values, y_values)         \n",
    "plt.title('Transacciones por mes')     \n",
    "ax = plt.subplot()                   \n",
    "ax.set_xticks(x_values)           \n",
    "ax.set_xticklabels(x_values)     \n",
    "ax.set_xlabel('TransactionDate') \n",
    "ax.set_ylabel('# Transaction')  "
   ]
  },
  {
   "attachments": {},
   "cell_type": "markdown",
   "metadata": {},
   "source": [
    "Se tiene registro de transacciones durante el año 2016 entre agosto y octubre y el día que más transacciones se hicieron fue en 2016-08-07 y agosto es el mes con el mayor número de transacciones"
   ]
  },
  {
   "cell_type": "code",
   "execution_count": 61,
   "metadata": {},
   "outputs": [
    {
     "name": "stderr",
     "output_type": "stream",
     "text": [
      "C:\\Users\\User\\AppData\\Local\\Temp\\ipykernel_18792\\2572560662.py:1: FutureWarning: Treating datetime data as categorical rather than numeric in `.describe` is deprecated and will be removed in a future version of pandas. Specify `datetime_is_numeric=True` to silence this warning and adopt the future behavior now.\n",
      "  data_bank['CustomerDOB'].describe()\n"
     ]
    },
    {
     "data": {
      "text/plain": [
       "count                  987831\n",
       "unique                  17253\n",
       "top       1989-01-01 00:00:00\n",
       "freq                      809\n",
       "first     1969-01-01 00:00:00\n",
       "last      2068-12-31 00:00:00\n",
       "Name: CustomerDOB, dtype: object"
      ]
     },
     "execution_count": 61,
     "metadata": {},
     "output_type": "execute_result"
    }
   ],
   "source": [
    "data_bank['CustomerDOB'].describe()"
   ]
  },
  {
   "attachments": {},
   "cell_type": "markdown",
   "metadata": {},
   "source": [
    "Se encuentran valores de fechas de nacimiento recientes y/o futuras lo cual es una inconsistencia. En la transformación se podrían omitir estos valores inconsistentes reemplazandolos con NAN y evaluar los rangos de edad de únicamente los clientes que tienen una fecha de nacimiento correcta. "
   ]
  },
  {
   "cell_type": "code",
   "execution_count": 31,
   "metadata": {},
   "outputs": [
    {
     "name": "stdout",
     "output_type": "stream",
     "text": [
      "884265\n",
      "1.1858062911005185\n"
     ]
    }
   ],
   "source": [
    "print(data_bank['CustomerID'].value_counts().count())\n",
    "print(data_bank['CustomerID'].value_counts().mean())"
   ]
  },
  {
   "attachments": {},
   "cell_type": "markdown",
   "metadata": {},
   "source": [
    "Se tiene un total de 884,265 clientes único, lo que quiere decir que en promedio un cliente hace 1.18 transacciones.\n"
   ]
  },
  {
   "attachments": {},
   "cell_type": "markdown",
   "metadata": {},
   "source": [
    "### Base 2: Music_info.csv y User_Listening_History.csv"
   ]
  },
  {
   "cell_type": "code",
   "execution_count": 37,
   "metadata": {},
   "outputs": [
    {
     "data": {
      "text/html": [
       "<div>\n",
       "<style scoped>\n",
       "    .dataframe tbody tr th:only-of-type {\n",
       "        vertical-align: middle;\n",
       "    }\n",
       "\n",
       "    .dataframe tbody tr th {\n",
       "        vertical-align: top;\n",
       "    }\n",
       "\n",
       "    .dataframe thead th {\n",
       "        text-align: right;\n",
       "    }\n",
       "</style>\n",
       "<table border=\"1\" class=\"dataframe\">\n",
       "  <thead>\n",
       "    <tr style=\"text-align: right;\">\n",
       "      <th></th>\n",
       "      <th>track_id</th>\n",
       "      <th>name</th>\n",
       "      <th>artist</th>\n",
       "      <th>spotify_preview_url</th>\n",
       "      <th>spotify_id</th>\n",
       "      <th>tags</th>\n",
       "      <th>genre</th>\n",
       "      <th>year</th>\n",
       "      <th>duration_ms</th>\n",
       "      <th>danceability</th>\n",
       "      <th>...</th>\n",
       "      <th>key</th>\n",
       "      <th>loudness</th>\n",
       "      <th>mode</th>\n",
       "      <th>speechiness</th>\n",
       "      <th>acousticness</th>\n",
       "      <th>instrumentalness</th>\n",
       "      <th>liveness</th>\n",
       "      <th>valence</th>\n",
       "      <th>tempo</th>\n",
       "      <th>time_signature</th>\n",
       "    </tr>\n",
       "  </thead>\n",
       "  <tbody>\n",
       "    <tr>\n",
       "      <th>0</th>\n",
       "      <td>TRIOREW128F424EAF0</td>\n",
       "      <td>Mr. Brightside</td>\n",
       "      <td>The Killers</td>\n",
       "      <td>https://p.scdn.co/mp3-preview/4d26180e6961fd46...</td>\n",
       "      <td>09ZQ5TmUG8TSL56n0knqrj</td>\n",
       "      <td>rock, alternative, indie, alternative_rock, in...</td>\n",
       "      <td>NaN</td>\n",
       "      <td>2004</td>\n",
       "      <td>222200</td>\n",
       "      <td>0.355</td>\n",
       "      <td>...</td>\n",
       "      <td>1</td>\n",
       "      <td>-4.360</td>\n",
       "      <td>1</td>\n",
       "      <td>0.0746</td>\n",
       "      <td>0.001190</td>\n",
       "      <td>0.000000</td>\n",
       "      <td>0.0971</td>\n",
       "      <td>0.240</td>\n",
       "      <td>148.114</td>\n",
       "      <td>4</td>\n",
       "    </tr>\n",
       "    <tr>\n",
       "      <th>1</th>\n",
       "      <td>TRRIVDJ128F429B0E8</td>\n",
       "      <td>Wonderwall</td>\n",
       "      <td>Oasis</td>\n",
       "      <td>https://p.scdn.co/mp3-preview/d012e536916c927b...</td>\n",
       "      <td>06UfBBDISthj1ZJAtX4xjj</td>\n",
       "      <td>rock, alternative, indie, pop, alternative_roc...</td>\n",
       "      <td>NaN</td>\n",
       "      <td>2006</td>\n",
       "      <td>258613</td>\n",
       "      <td>0.409</td>\n",
       "      <td>...</td>\n",
       "      <td>2</td>\n",
       "      <td>-4.373</td>\n",
       "      <td>1</td>\n",
       "      <td>0.0336</td>\n",
       "      <td>0.000807</td>\n",
       "      <td>0.000000</td>\n",
       "      <td>0.2070</td>\n",
       "      <td>0.651</td>\n",
       "      <td>174.426</td>\n",
       "      <td>4</td>\n",
       "    </tr>\n",
       "    <tr>\n",
       "      <th>2</th>\n",
       "      <td>TROUVHL128F426C441</td>\n",
       "      <td>Come as You Are</td>\n",
       "      <td>Nirvana</td>\n",
       "      <td>https://p.scdn.co/mp3-preview/a1c11bb1cb231031...</td>\n",
       "      <td>0keNu0t0tqsWtExGM3nT1D</td>\n",
       "      <td>rock, alternative, alternative_rock, 90s, grunge</td>\n",
       "      <td>RnB</td>\n",
       "      <td>1991</td>\n",
       "      <td>218920</td>\n",
       "      <td>0.508</td>\n",
       "      <td>...</td>\n",
       "      <td>4</td>\n",
       "      <td>-5.783</td>\n",
       "      <td>0</td>\n",
       "      <td>0.0400</td>\n",
       "      <td>0.000175</td>\n",
       "      <td>0.000459</td>\n",
       "      <td>0.0878</td>\n",
       "      <td>0.543</td>\n",
       "      <td>120.012</td>\n",
       "      <td>4</td>\n",
       "    </tr>\n",
       "    <tr>\n",
       "      <th>3</th>\n",
       "      <td>TRUEIND128F93038C4</td>\n",
       "      <td>Take Me Out</td>\n",
       "      <td>Franz Ferdinand</td>\n",
       "      <td>https://p.scdn.co/mp3-preview/399c401370438be4...</td>\n",
       "      <td>0ancVQ9wEcHVd0RrGICTE4</td>\n",
       "      <td>rock, alternative, indie, alternative_rock, in...</td>\n",
       "      <td>NaN</td>\n",
       "      <td>2004</td>\n",
       "      <td>237026</td>\n",
       "      <td>0.279</td>\n",
       "      <td>...</td>\n",
       "      <td>9</td>\n",
       "      <td>-8.851</td>\n",
       "      <td>1</td>\n",
       "      <td>0.0371</td>\n",
       "      <td>0.000389</td>\n",
       "      <td>0.000655</td>\n",
       "      <td>0.1330</td>\n",
       "      <td>0.490</td>\n",
       "      <td>104.560</td>\n",
       "      <td>4</td>\n",
       "    </tr>\n",
       "    <tr>\n",
       "      <th>4</th>\n",
       "      <td>TRLNZBD128F935E4D8</td>\n",
       "      <td>Creep</td>\n",
       "      <td>Radiohead</td>\n",
       "      <td>https://p.scdn.co/mp3-preview/e7eb60e9466bc3a2...</td>\n",
       "      <td>01QoK9DA7VTeTSE3MNzp4I</td>\n",
       "      <td>rock, alternative, indie, alternative_rock, in...</td>\n",
       "      <td>RnB</td>\n",
       "      <td>2008</td>\n",
       "      <td>238640</td>\n",
       "      <td>0.515</td>\n",
       "      <td>...</td>\n",
       "      <td>7</td>\n",
       "      <td>-9.935</td>\n",
       "      <td>1</td>\n",
       "      <td>0.0369</td>\n",
       "      <td>0.010200</td>\n",
       "      <td>0.000141</td>\n",
       "      <td>0.1290</td>\n",
       "      <td>0.104</td>\n",
       "      <td>91.841</td>\n",
       "      <td>4</td>\n",
       "    </tr>\n",
       "  </tbody>\n",
       "</table>\n",
       "<p>5 rows × 21 columns</p>\n",
       "</div>"
      ],
      "text/plain": [
       "             track_id             name           artist  \\\n",
       "0  TRIOREW128F424EAF0   Mr. Brightside      The Killers   \n",
       "1  TRRIVDJ128F429B0E8       Wonderwall            Oasis   \n",
       "2  TROUVHL128F426C441  Come as You Are          Nirvana   \n",
       "3  TRUEIND128F93038C4      Take Me Out  Franz Ferdinand   \n",
       "4  TRLNZBD128F935E4D8            Creep        Radiohead   \n",
       "\n",
       "                                 spotify_preview_url              spotify_id  \\\n",
       "0  https://p.scdn.co/mp3-preview/4d26180e6961fd46...  09ZQ5TmUG8TSL56n0knqrj   \n",
       "1  https://p.scdn.co/mp3-preview/d012e536916c927b...  06UfBBDISthj1ZJAtX4xjj   \n",
       "2  https://p.scdn.co/mp3-preview/a1c11bb1cb231031...  0keNu0t0tqsWtExGM3nT1D   \n",
       "3  https://p.scdn.co/mp3-preview/399c401370438be4...  0ancVQ9wEcHVd0RrGICTE4   \n",
       "4  https://p.scdn.co/mp3-preview/e7eb60e9466bc3a2...  01QoK9DA7VTeTSE3MNzp4I   \n",
       "\n",
       "                                                tags genre  year  duration_ms  \\\n",
       "0  rock, alternative, indie, alternative_rock, in...   NaN  2004       222200   \n",
       "1  rock, alternative, indie, pop, alternative_roc...   NaN  2006       258613   \n",
       "2   rock, alternative, alternative_rock, 90s, grunge   RnB  1991       218920   \n",
       "3  rock, alternative, indie, alternative_rock, in...   NaN  2004       237026   \n",
       "4  rock, alternative, indie, alternative_rock, in...   RnB  2008       238640   \n",
       "\n",
       "   danceability  ...  key  loudness  mode  speechiness  acousticness  \\\n",
       "0         0.355  ...    1    -4.360     1       0.0746      0.001190   \n",
       "1         0.409  ...    2    -4.373     1       0.0336      0.000807   \n",
       "2         0.508  ...    4    -5.783     0       0.0400      0.000175   \n",
       "3         0.279  ...    9    -8.851     1       0.0371      0.000389   \n",
       "4         0.515  ...    7    -9.935     1       0.0369      0.010200   \n",
       "\n",
       "   instrumentalness  liveness  valence    tempo  time_signature  \n",
       "0          0.000000    0.0971    0.240  148.114               4  \n",
       "1          0.000000    0.2070    0.651  174.426               4  \n",
       "2          0.000459    0.0878    0.543  120.012               4  \n",
       "3          0.000655    0.1330    0.490  104.560               4  \n",
       "4          0.000141    0.1290    0.104   91.841               4  \n",
       "\n",
       "[5 rows x 21 columns]"
      ]
     },
     "execution_count": 37,
     "metadata": {},
     "output_type": "execute_result"
    }
   ],
   "source": [
    "# Se carga la data\n",
    "music_info = pd.read_csv('SongDatase/Music_Info.csv')\n",
    "user_listening = pd.read_csv('SongDatase/User_Listening_History.csv')\n",
    "music_info.head()\n"
   ]
  },
  {
   "cell_type": "code",
   "execution_count": 38,
   "metadata": {},
   "outputs": [
    {
     "data": {
      "text/html": [
       "<div>\n",
       "<style scoped>\n",
       "    .dataframe tbody tr th:only-of-type {\n",
       "        vertical-align: middle;\n",
       "    }\n",
       "\n",
       "    .dataframe tbody tr th {\n",
       "        vertical-align: top;\n",
       "    }\n",
       "\n",
       "    .dataframe thead th {\n",
       "        text-align: right;\n",
       "    }\n",
       "</style>\n",
       "<table border=\"1\" class=\"dataframe\">\n",
       "  <thead>\n",
       "    <tr style=\"text-align: right;\">\n",
       "      <th></th>\n",
       "      <th>track_id</th>\n",
       "      <th>user_id</th>\n",
       "      <th>playcount</th>\n",
       "    </tr>\n",
       "  </thead>\n",
       "  <tbody>\n",
       "    <tr>\n",
       "      <th>0</th>\n",
       "      <td>TRIRLYL128F42539D1</td>\n",
       "      <td>b80344d063b5ccb3212f76538f3d9e43d87dca9e</td>\n",
       "      <td>1</td>\n",
       "    </tr>\n",
       "    <tr>\n",
       "      <th>1</th>\n",
       "      <td>TRFUPBA128F934F7E1</td>\n",
       "      <td>b80344d063b5ccb3212f76538f3d9e43d87dca9e</td>\n",
       "      <td>1</td>\n",
       "    </tr>\n",
       "    <tr>\n",
       "      <th>2</th>\n",
       "      <td>TRLQPQJ128F42AA94F</td>\n",
       "      <td>b80344d063b5ccb3212f76538f3d9e43d87dca9e</td>\n",
       "      <td>1</td>\n",
       "    </tr>\n",
       "    <tr>\n",
       "      <th>3</th>\n",
       "      <td>TRTUCUY128F92E1D24</td>\n",
       "      <td>b80344d063b5ccb3212f76538f3d9e43d87dca9e</td>\n",
       "      <td>1</td>\n",
       "    </tr>\n",
       "    <tr>\n",
       "      <th>4</th>\n",
       "      <td>TRHDDQG12903CB53EE</td>\n",
       "      <td>b80344d063b5ccb3212f76538f3d9e43d87dca9e</td>\n",
       "      <td>1</td>\n",
       "    </tr>\n",
       "  </tbody>\n",
       "</table>\n",
       "</div>"
      ],
      "text/plain": [
       "             track_id                                   user_id  playcount\n",
       "0  TRIRLYL128F42539D1  b80344d063b5ccb3212f76538f3d9e43d87dca9e          1\n",
       "1  TRFUPBA128F934F7E1  b80344d063b5ccb3212f76538f3d9e43d87dca9e          1\n",
       "2  TRLQPQJ128F42AA94F  b80344d063b5ccb3212f76538f3d9e43d87dca9e          1\n",
       "3  TRTUCUY128F92E1D24  b80344d063b5ccb3212f76538f3d9e43d87dca9e          1\n",
       "4  TRHDDQG12903CB53EE  b80344d063b5ccb3212f76538f3d9e43d87dca9e          1"
      ]
     },
     "execution_count": 38,
     "metadata": {},
     "output_type": "execute_result"
    }
   ],
   "source": [
    "user_listening.head()"
   ]
  },
  {
   "cell_type": "code",
   "execution_count": 39,
   "metadata": {},
   "outputs": [
    {
     "name": "stdout",
     "output_type": "stream",
     "text": [
      "<class 'pandas.core.frame.DataFrame'>\n",
      "RangeIndex: 50683 entries, 0 to 50682\n",
      "Data columns (total 21 columns):\n",
      " #   Column               Non-Null Count  Dtype  \n",
      "---  ------               --------------  -----  \n",
      " 0   track_id             50683 non-null  object \n",
      " 1   name                 50683 non-null  object \n",
      " 2   artist               50683 non-null  object \n",
      " 3   spotify_preview_url  50683 non-null  object \n",
      " 4   spotify_id           50683 non-null  object \n",
      " 5   tags                 49556 non-null  object \n",
      " 6   genre                22348 non-null  object \n",
      " 7   year                 50683 non-null  int64  \n",
      " 8   duration_ms          50683 non-null  int64  \n",
      " 9   danceability         50683 non-null  float64\n",
      " 10  energy               50683 non-null  float64\n",
      " 11  key                  50683 non-null  int64  \n",
      " 12  loudness             50683 non-null  float64\n",
      " 13  mode                 50683 non-null  int64  \n",
      " 14  speechiness          50683 non-null  float64\n",
      " 15  acousticness         50683 non-null  float64\n",
      " 16  instrumentalness     50683 non-null  float64\n",
      " 17  liveness             50683 non-null  float64\n",
      " 18  valence              50683 non-null  float64\n",
      " 19  tempo                50683 non-null  float64\n",
      " 20  time_signature       50683 non-null  int64  \n",
      "dtypes: float64(9), int64(5), object(7)\n",
      "memory usage: 8.1+ MB\n"
     ]
    }
   ],
   "source": [
    "music_info.info()"
   ]
  },
  {
   "attachments": {},
   "cell_type": "markdown",
   "metadata": {},
   "source": [
    "En esta base de datos se tienen 50,683 canciones con 21 columnas, solo los campos 'tags' y 'genre' tienen valores nulos. Los campos tienen un formato correcto"
   ]
  },
  {
   "cell_type": "code",
   "execution_count": 40,
   "metadata": {},
   "outputs": [
    {
     "name": "stdout",
     "output_type": "stream",
     "text": [
      "<class 'pandas.core.frame.DataFrame'>\n",
      "RangeIndex: 9711301 entries, 0 to 9711300\n",
      "Data columns (total 3 columns):\n",
      " #   Column     Dtype \n",
      "---  ------     ----- \n",
      " 0   track_id   object\n",
      " 1   user_id    object\n",
      " 2   playcount  int64 \n",
      "dtypes: int64(1), object(2)\n",
      "memory usage: 222.3+ MB\n"
     ]
    }
   ],
   "source": [
    "user_listening.info()"
   ]
  },
  {
   "attachments": {},
   "cell_type": "markdown",
   "metadata": {},
   "source": [
    "Este dataframe contiene 9,711,301 registros de canciones y usuarios. Los formatos son los adecuados. No hay valores nulos.\n",
    "Estos dos dataframe se pueden cruzar entre si por la variable 'track_id' que identifica la canción."
   ]
  },
  {
   "cell_type": "code",
   "execution_count": 41,
   "metadata": {},
   "outputs": [
    {
     "data": {
      "text/plain": [
       "count                  50683\n",
       "unique                 50683\n",
       "top       TRIOREW128F424EAF0\n",
       "freq                       1\n",
       "Name: track_id, dtype: object"
      ]
     },
     "execution_count": 41,
     "metadata": {},
     "output_type": "execute_result"
    }
   ],
   "source": [
    "music_info['track_id'].describe()"
   ]
  },
  {
   "cell_type": "code",
   "execution_count": 42,
   "metadata": {},
   "outputs": [
    {
     "data": {
      "text/plain": [
       "count                9711301\n",
       "unique                 30459\n",
       "top       TRONYHY128F92C9D11\n",
       "freq                   80656\n",
       "Name: track_id, dtype: object"
      ]
     },
     "execution_count": 42,
     "metadata": {},
     "output_type": "execute_result"
    }
   ],
   "source": [
    "user_listening['track_id'].describe()"
   ]
  },
  {
   "attachments": {},
   "cell_type": "markdown",
   "metadata": {},
   "source": [
    "En el dataframe user_listening tenemos un total de 30,459 canciones únicas. ¿Será que todas coinciden con music_info? Para responder esta pregunta, podemos hacer un merge entre los dos dataframe y evaluar si todos los track_id cruzan."
   ]
  },
  {
   "cell_type": "code",
   "execution_count": 45,
   "metadata": {},
   "outputs": [],
   "source": [
    "df_new = pd.merge(  user_listening,music_info,\n",
    "                    how='inner',\n",
    "                    on ='track_id')"
   ]
  },
  {
   "cell_type": "code",
   "execution_count": 46,
   "metadata": {},
   "outputs": [
    {
     "name": "stdout",
     "output_type": "stream",
     "text": [
      "<class 'pandas.core.frame.DataFrame'>\n",
      "Int64Index: 9711301 entries, 0 to 9711300\n",
      "Data columns (total 23 columns):\n",
      " #   Column               Dtype  \n",
      "---  ------               -----  \n",
      " 0   track_id             object \n",
      " 1   user_id              object \n",
      " 2   playcount            int64  \n",
      " 3   name                 object \n",
      " 4   artist               object \n",
      " 5   spotify_preview_url  object \n",
      " 6   spotify_id           object \n",
      " 7   tags                 object \n",
      " 8   genre                object \n",
      " 9   year                 int64  \n",
      " 10  duration_ms          int64  \n",
      " 11  danceability         float64\n",
      " 12  energy               float64\n",
      " 13  key                  int64  \n",
      " 14  loudness             float64\n",
      " 15  mode                 int64  \n",
      " 16  speechiness          float64\n",
      " 17  acousticness         float64\n",
      " 18  instrumentalness     float64\n",
      " 19  liveness             float64\n",
      " 20  valence              float64\n",
      " 21  tempo                float64\n",
      " 22  time_signature       int64  \n",
      "dtypes: float64(9), int64(6), object(8)\n",
      "memory usage: 1.7+ GB\n"
     ]
    }
   ],
   "source": [
    "df_new.info()"
   ]
  },
  {
   "attachments": {},
   "cell_type": "markdown",
   "metadata": {},
   "source": [
    "Al hacer merge entre los dataframe por inner join se observa que no se pierden registros por lo que tenemos la información necesaria para seguir trabajando."
   ]
  },
  {
   "cell_type": "code",
   "execution_count": 47,
   "metadata": {},
   "outputs": [
    {
     "data": {
      "text/html": [
       "<div>\n",
       "<style scoped>\n",
       "    .dataframe tbody tr th:only-of-type {\n",
       "        vertical-align: middle;\n",
       "    }\n",
       "\n",
       "    .dataframe tbody tr th {\n",
       "        vertical-align: top;\n",
       "    }\n",
       "\n",
       "    .dataframe thead th {\n",
       "        text-align: right;\n",
       "    }\n",
       "</style>\n",
       "<table border=\"1\" class=\"dataframe\">\n",
       "  <thead>\n",
       "    <tr style=\"text-align: right;\">\n",
       "      <th></th>\n",
       "      <th>playcount</th>\n",
       "      <th>year</th>\n",
       "      <th>duration_ms</th>\n",
       "      <th>danceability</th>\n",
       "      <th>energy</th>\n",
       "      <th>key</th>\n",
       "      <th>loudness</th>\n",
       "      <th>mode</th>\n",
       "      <th>speechiness</th>\n",
       "      <th>acousticness</th>\n",
       "      <th>instrumentalness</th>\n",
       "      <th>liveness</th>\n",
       "      <th>valence</th>\n",
       "      <th>tempo</th>\n",
       "      <th>time_signature</th>\n",
       "    </tr>\n",
       "  </thead>\n",
       "  <tbody>\n",
       "    <tr>\n",
       "      <th>count</th>\n",
       "      <td>9.711301e+06</td>\n",
       "      <td>9.711301e+06</td>\n",
       "      <td>9.711301e+06</td>\n",
       "      <td>9.711301e+06</td>\n",
       "      <td>9.711301e+06</td>\n",
       "      <td>9.711301e+06</td>\n",
       "      <td>9.711301e+06</td>\n",
       "      <td>9.711301e+06</td>\n",
       "      <td>9.711301e+06</td>\n",
       "      <td>9.711301e+06</td>\n",
       "      <td>9.711301e+06</td>\n",
       "      <td>9.711301e+06</td>\n",
       "      <td>9.711301e+06</td>\n",
       "      <td>9.711301e+06</td>\n",
       "      <td>9.711301e+06</td>\n",
       "    </tr>\n",
       "    <tr>\n",
       "      <th>mean</th>\n",
       "      <td>2.630946e+00</td>\n",
       "      <td>2.004846e+03</td>\n",
       "      <td>2.458999e+05</td>\n",
       "      <td>5.286417e-01</td>\n",
       "      <td>6.781073e-01</td>\n",
       "      <td>5.351573e+00</td>\n",
       "      <td>-7.825038e+00</td>\n",
       "      <td>6.474253e-01</td>\n",
       "      <td>7.136620e-02</td>\n",
       "      <td>2.206536e-01</td>\n",
       "      <td>1.679303e-01</td>\n",
       "      <td>2.047823e-01</td>\n",
       "      <td>4.658363e-01</td>\n",
       "      <td>1.234290e+02</td>\n",
       "      <td>3.913533e+00</td>\n",
       "    </tr>\n",
       "    <tr>\n",
       "      <th>std</th>\n",
       "      <td>5.706324e+00</td>\n",
       "      <td>7.017311e+00</td>\n",
       "      <td>9.017579e+04</td>\n",
       "      <td>1.708274e-01</td>\n",
       "      <td>2.362942e-01</td>\n",
       "      <td>3.556024e+00</td>\n",
       "      <td>3.952011e+00</td>\n",
       "      <td>4.777717e-01</td>\n",
       "      <td>7.312056e-02</td>\n",
       "      <td>2.971524e-01</td>\n",
       "      <td>2.992913e-01</td>\n",
       "      <td>1.686200e-01</td>\n",
       "      <td>2.508728e-01</td>\n",
       "      <td>2.907696e+01</td>\n",
       "      <td>3.601450e-01</td>\n",
       "    </tr>\n",
       "    <tr>\n",
       "      <th>min</th>\n",
       "      <td>1.000000e+00</td>\n",
       "      <td>1.900000e+03</td>\n",
       "      <td>1.439000e+03</td>\n",
       "      <td>0.000000e+00</td>\n",
       "      <td>0.000000e+00</td>\n",
       "      <td>0.000000e+00</td>\n",
       "      <td>-6.000000e+01</td>\n",
       "      <td>0.000000e+00</td>\n",
       "      <td>0.000000e+00</td>\n",
       "      <td>0.000000e+00</td>\n",
       "      <td>0.000000e+00</td>\n",
       "      <td>0.000000e+00</td>\n",
       "      <td>0.000000e+00</td>\n",
       "      <td>0.000000e+00</td>\n",
       "      <td>0.000000e+00</td>\n",
       "    </tr>\n",
       "    <tr>\n",
       "      <th>25%</th>\n",
       "      <td>1.000000e+00</td>\n",
       "      <td>2.002000e+03</td>\n",
       "      <td>1.979460e+05</td>\n",
       "      <td>4.130000e-01</td>\n",
       "      <td>5.230000e-01</td>\n",
       "      <td>2.000000e+00</td>\n",
       "      <td>-9.623000e+00</td>\n",
       "      <td>0.000000e+00</td>\n",
       "      <td>3.350000e-02</td>\n",
       "      <td>4.230000e-03</td>\n",
       "      <td>3.830000e-06</td>\n",
       "      <td>9.750000e-02</td>\n",
       "      <td>2.620000e-01</td>\n",
       "      <td>1.008950e+02</td>\n",
       "      <td>4.000000e+00</td>\n",
       "    </tr>\n",
       "    <tr>\n",
       "      <th>50%</th>\n",
       "      <td>1.000000e+00</td>\n",
       "      <td>2.007000e+03</td>\n",
       "      <td>2.335730e+05</td>\n",
       "      <td>5.320000e-01</td>\n",
       "      <td>7.250000e-01</td>\n",
       "      <td>5.000000e+00</td>\n",
       "      <td>-6.919000e+00</td>\n",
       "      <td>1.000000e+00</td>\n",
       "      <td>4.440000e-02</td>\n",
       "      <td>6.110000e-02</td>\n",
       "      <td>1.140000e-03</td>\n",
       "      <td>1.330000e-01</td>\n",
       "      <td>4.420000e-01</td>\n",
       "      <td>1.218570e+02</td>\n",
       "      <td>4.000000e+00</td>\n",
       "    </tr>\n",
       "    <tr>\n",
       "      <th>75%</th>\n",
       "      <td>2.000000e+00</td>\n",
       "      <td>2.009000e+03</td>\n",
       "      <td>2.750400e+05</td>\n",
       "      <td>6.480000e-01</td>\n",
       "      <td>8.810000e-01</td>\n",
       "      <td>9.000000e+00</td>\n",
       "      <td>-5.089000e+00</td>\n",
       "      <td>1.000000e+00</td>\n",
       "      <td>7.450000e-02</td>\n",
       "      <td>3.430000e-01</td>\n",
       "      <td>1.540000e-01</td>\n",
       "      <td>2.760000e-01</td>\n",
       "      <td>6.710000e-01</td>\n",
       "      <td>1.420110e+02</td>\n",
       "      <td>4.000000e+00</td>\n",
       "    </tr>\n",
       "    <tr>\n",
       "      <th>max</th>\n",
       "      <td>2.948000e+03</td>\n",
       "      <td>2.020000e+03</td>\n",
       "      <td>2.510920e+06</td>\n",
       "      <td>9.860000e-01</td>\n",
       "      <td>1.000000e+00</td>\n",
       "      <td>1.100000e+01</td>\n",
       "      <td>3.642000e+00</td>\n",
       "      <td>1.000000e+00</td>\n",
       "      <td>9.540000e-01</td>\n",
       "      <td>9.960000e-01</td>\n",
       "      <td>9.990000e-01</td>\n",
       "      <td>9.980000e-01</td>\n",
       "      <td>9.890000e-01</td>\n",
       "      <td>2.388950e+02</td>\n",
       "      <td>5.000000e+00</td>\n",
       "    </tr>\n",
       "  </tbody>\n",
       "</table>\n",
       "</div>"
      ],
      "text/plain": [
       "          playcount          year   duration_ms  danceability        energy  \\\n",
       "count  9.711301e+06  9.711301e+06  9.711301e+06  9.711301e+06  9.711301e+06   \n",
       "mean   2.630946e+00  2.004846e+03  2.458999e+05  5.286417e-01  6.781073e-01   \n",
       "std    5.706324e+00  7.017311e+00  9.017579e+04  1.708274e-01  2.362942e-01   \n",
       "min    1.000000e+00  1.900000e+03  1.439000e+03  0.000000e+00  0.000000e+00   \n",
       "25%    1.000000e+00  2.002000e+03  1.979460e+05  4.130000e-01  5.230000e-01   \n",
       "50%    1.000000e+00  2.007000e+03  2.335730e+05  5.320000e-01  7.250000e-01   \n",
       "75%    2.000000e+00  2.009000e+03  2.750400e+05  6.480000e-01  8.810000e-01   \n",
       "max    2.948000e+03  2.020000e+03  2.510920e+06  9.860000e-01  1.000000e+00   \n",
       "\n",
       "                key      loudness          mode   speechiness  acousticness  \\\n",
       "count  9.711301e+06  9.711301e+06  9.711301e+06  9.711301e+06  9.711301e+06   \n",
       "mean   5.351573e+00 -7.825038e+00  6.474253e-01  7.136620e-02  2.206536e-01   \n",
       "std    3.556024e+00  3.952011e+00  4.777717e-01  7.312056e-02  2.971524e-01   \n",
       "min    0.000000e+00 -6.000000e+01  0.000000e+00  0.000000e+00  0.000000e+00   \n",
       "25%    2.000000e+00 -9.623000e+00  0.000000e+00  3.350000e-02  4.230000e-03   \n",
       "50%    5.000000e+00 -6.919000e+00  1.000000e+00  4.440000e-02  6.110000e-02   \n",
       "75%    9.000000e+00 -5.089000e+00  1.000000e+00  7.450000e-02  3.430000e-01   \n",
       "max    1.100000e+01  3.642000e+00  1.000000e+00  9.540000e-01  9.960000e-01   \n",
       "\n",
       "       instrumentalness      liveness       valence         tempo  \\\n",
       "count      9.711301e+06  9.711301e+06  9.711301e+06  9.711301e+06   \n",
       "mean       1.679303e-01  2.047823e-01  4.658363e-01  1.234290e+02   \n",
       "std        2.992913e-01  1.686200e-01  2.508728e-01  2.907696e+01   \n",
       "min        0.000000e+00  0.000000e+00  0.000000e+00  0.000000e+00   \n",
       "25%        3.830000e-06  9.750000e-02  2.620000e-01  1.008950e+02   \n",
       "50%        1.140000e-03  1.330000e-01  4.420000e-01  1.218570e+02   \n",
       "75%        1.540000e-01  2.760000e-01  6.710000e-01  1.420110e+02   \n",
       "max        9.990000e-01  9.980000e-01  9.890000e-01  2.388950e+02   \n",
       "\n",
       "       time_signature  \n",
       "count    9.711301e+06  \n",
       "mean     3.913533e+00  \n",
       "std      3.601450e-01  \n",
       "min      0.000000e+00  \n",
       "25%      4.000000e+00  \n",
       "50%      4.000000e+00  \n",
       "75%      4.000000e+00  \n",
       "max      5.000000e+00  "
      ]
     },
     "execution_count": 47,
     "metadata": {},
     "output_type": "execute_result"
    }
   ],
   "source": [
    "df_new.describe()"
   ]
  },
  {
   "cell_type": "code",
   "execution_count": 56,
   "metadata": {},
   "outputs": [],
   "source": [
    "def top_10(df,valor):\n",
    "    \"\"\" Función para calcular el top 10 en reproducciones\n",
    "\n",
    "    Args:\n",
    "        df: base de datos de donde se desea sacar el top 10\n",
    "        valor: categoría por la que se desea sacar el top 10\n",
    "\n",
    "    Returns:\n",
    "        df : dataframe con los primero 10 registros con mayor cantidad de reproducciones\n",
    "    \"\"\"\n",
    "    top = df.groupby(valor)['playcount'].sum().sort_values(ascending=False).head(10)\n",
    "    return top\n",
    "\n"
   ]
  },
  {
   "cell_type": "code",
   "execution_count": 57,
   "metadata": {},
   "outputs": [
    {
     "data": {
      "text/plain": [
       "artist\n",
       "Kings of Leon     597299\n",
       "The Black Keys    336178\n",
       "Justin Bieber     231001\n",
       "Coldplay          203320\n",
       "Radiohead         179341\n",
       "Jack Johnson      177147\n",
       "Modest Mouse      174356\n",
       "Metallica         166320\n",
       "John Mayer        160425\n",
       "Metric            159881\n",
       "Name: playcount, dtype: int64"
      ]
     },
     "execution_count": 57,
     "metadata": {},
     "output_type": "execute_result"
    }
   ],
   "source": [
    "# Artistas más escuchados\n",
    "top_10(df_new,'artist')"
   ]
  },
  {
   "cell_type": "code",
   "execution_count": 58,
   "metadata": {},
   "outputs": [
    {
     "data": {
      "text/plain": [
       "name\n",
       "Revelry                  527893\n",
       "Alejandro                111615\n",
       "Gears                    111596\n",
       "Halo                      91461\n",
       "Bring Me To Life          91448\n",
       "Heartbreak Warfare        87745\n",
       "Uprising                  87050\n",
       "Float On                  85079\n",
       "Party In The U.S.A.       78443\n",
       "Bitter Sweet Symphony     76893\n",
       "Name: playcount, dtype: int64"
      ]
     },
     "execution_count": 58,
     "metadata": {},
     "output_type": "execute_result"
    }
   ],
   "source": [
    "# Canciones más escuchadas\n",
    "top_10(df_new,'name')"
   ]
  },
  {
   "cell_type": "code",
   "execution_count": 59,
   "metadata": {},
   "outputs": [
    {
     "data": {
      "text/plain": [
       "genre\n",
       "Rock          8808231\n",
       "Electronic    1975595\n",
       "Pop           1484501\n",
       "Rap            891687\n",
       "Metal          846604\n",
       "Country        697086\n",
       "Folk           389822\n",
       "RnB            363087\n",
       "Reggae         191751\n",
       "Jazz           188157\n",
       "Name: playcount, dtype: int64"
      ]
     },
     "execution_count": 59,
     "metadata": {},
     "output_type": "execute_result"
    }
   ],
   "source": [
    "# Generos más escuchados\n",
    "top_10(df_new,'genre')"
   ]
  }
 ],
 "metadata": {
  "kernelspec": {
   "display_name": "Python 3",
   "language": "python",
   "name": "python3"
  },
  "language_info": {
   "codemirror_mode": {
    "name": "ipython",
    "version": 3
   },
   "file_extension": ".py",
   "mimetype": "text/x-python",
   "name": "python",
   "nbconvert_exporter": "python",
   "pygments_lexer": "ipython3",
   "version": "3.10.4"
  },
  "orig_nbformat": 4
 },
 "nbformat": 4,
 "nbformat_minor": 2
}
